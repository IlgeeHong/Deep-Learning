{
 "cells": [
  {
   "cell_type": "code",
   "execution_count": 47,
   "metadata": {},
   "outputs": [],
   "source": [
    "import numpy as np"
   ]
  },
  {
   "cell_type": "code",
   "execution_count": 58,
   "metadata": {},
   "outputs": [],
   "source": [
    "class Network(object): # class라는 것은 object를 편하게 생성하기 위해 foundation building을 의미한다.\n",
    "                       # Network class는 object class를 상속한다\n",
    "    \n",
    "    def __init__(self, sizes): # sizes라는 instance만 입력을 받을 것이다.\n",
    "        self.num_layers = len(sizes)\n",
    "        self.sizes = sizes # input name과 instance variable의 이름을 같게 만드는 것이 convention.\n",
    "        self.bias = [np.random.randn(y,1) for y in sizes[1:]] # random.randn(shape) / omits to set any biases for an input layer\n",
    "        self.weights = [np.random.randn(y,x) for x,y in zip(sizes[:-1],sizes[1:])] # zip for looping over multiple iterables"
   ]
  },
  {
   "cell_type": "code",
   "execution_count": 67,
   "metadata": {},
   "outputs": [
    {
     "data": {
      "text/plain": [
       "__main__.Network"
      ]
     },
     "execution_count": 67,
     "metadata": {},
     "output_type": "execute_result"
    }
   ],
   "source": [
    "net = Network([2, 3, 1])\n",
    "type(net)"
   ]
  },
  {
   "cell_type": "code",
   "execution_count": null,
   "metadata": {},
   "outputs": [],
   "source": []
  }
 ],
 "metadata": {
  "kernelspec": {
   "display_name": "Python 3",
   "language": "python",
   "name": "python3"
  },
  "language_info": {
   "codemirror_mode": {
    "name": "ipython",
    "version": 3
   },
   "file_extension": ".py",
   "mimetype": "text/x-python",
   "name": "python",
   "nbconvert_exporter": "python",
   "pygments_lexer": "ipython3",
   "version": "3.8.5"
  }
 },
 "nbformat": 4,
 "nbformat_minor": 4
}
