{
 "cells": [
  {
   "cell_type": "markdown",
   "metadata": {},
   "source": [
    "# Implementing Neural Network"
   ]
  },
  {
   "cell_type": "code",
   "execution_count": 22,
   "metadata": {},
   "outputs": [],
   "source": [
    "import numpy as np\n",
    "import random"
   ]
  },
  {
   "cell_type": "code",
   "execution_count": 23,
   "metadata": {},
   "outputs": [],
   "source": [
    "#### Miscellaneous functions\n",
    "def sigmoid(z):\n",
    "    return 1.0/(1.0+np.exp(-z))\n",
    "\n",
    "def sigmoid_prime(z):\n",
    "    return sigmoid(z)*(1-sigmoid(z))\n",
    "    \n",
    "\n",
    "class Network(object): # class라는 것은 object를 편하게 생성하기 위해 foundation building을 의미한다.\n",
    "                       # Network class는 object class를 상속한다\n",
    "    \n",
    "    def __init__(self, sizes): # sizes라는 instance만 입력을 받을 것이다.\n",
    "        self.num_layers = len(sizes)\n",
    "        self.sizes = sizes # input name과 instance variable의 이름을 같게 만드는 것이 convention.\n",
    "        self.biases = [np.random.randn(y,1) for y in sizes[1:]] # random.randn(shape) / omits to set any biases for an input layer\n",
    "        self.weights = [np.random.randn(y,x) for y,x in zip(sizes[1:],sizes[:-1])] # zip for looping over multiple iterables\n",
    "        # weights matrix shape n*k n=next perceptron number, k=current perceptron number\n",
    "        \n",
    "\n",
    "    def feedforward(self, a):\n",
    "        for b, w in zip(self.biases, self.weights):\n",
    "            a = sigmoid(np.dot(w,a)+b)\n",
    "        return a\n",
    "    \n",
    "    \n",
    "    def SGD(self, training_data, epochs, mini_batch_size, eta, test_data=None):\n",
    "        # training_data: a list of tuples [(X1,Y1),(X2,Y2),...]\n",
    "        # epochs: the number of epochs to train for (=how many steps are needed for stochastic gradient descent)\n",
    "        # epochs는 결국 gradient descent 알고리즘을 몇 번째 step까지 진행할 것이냐를 결정한다.       \n",
    "        # eta is the learning rate\n",
    "        training_data = list(training_data)\n",
    "        n = len(training_data)\n",
    "        \n",
    "        if test_data: \n",
    "            test_data = list(test_data)\n",
    "            n_test = len(test_data) # treat test_data true except for all empty data types [],{},(),\"\",0 False, None\n",
    "        \n",
    "        for j in range(epochs):\n",
    "            random.shuffle(training_data) # 1-epoch가 지나가면 training data를 다시 섞는다.\n",
    "            mini_batches = [ # mini_batches is a list of each mini_batch\n",
    "                training_data[k:k+mini_batch_size] \n",
    "                for k in range(0,n,mini_batch_size)] # exclusive하게 training data를 쪼개서 mini_batches를 만듦\n",
    "            for mini_batch in mini_batches:\n",
    "                self.update_mini_batch(mini_batch,eta)\n",
    "            if test_data:\n",
    "                print(\"Epoch {}: {} / {}\".format(j, self.evaluate(test_data), n_test))\n",
    "            else:\n",
    "                print(\"Epoch {} complete\".format(j))\n",
    "                \n",
    "                \n",
    "    def update_mini_batch(self, mini_batch, eta):\n",
    "        \n",
    "        nabla_b = [np.zeros(b.shape) for b in self.biases]\n",
    "        nabla_w = [np.zeros(w.shape) for w in self.weights]\n",
    "        \n",
    "        for x, y in mini_batch: # x=input, y=label\n",
    "            delta_nabla_b, delta_nabla_w = self.backprop(x, y) \n",
    "            # compute the gradient vector for one sample.\n",
    "            nabla_b = [nb+dnb for nb, dnb in zip(nabla_b, delta_nabla_b)] # sum of nabla_b for all samples in mini_batch\n",
    "            nabla_w = [nw+dnw for nw, dnw in zip(nabla_w, delta_nabla_w)] # sum of nabla_w for all samples in mini_batch\n",
    "        self.weights = [w-(eta/len(mini_batch))*nw\n",
    "                        for w, nw in zip(self.weights, nabla_w)]\n",
    "        self.biases = [b-(eta/len(mini_batch))*nb\n",
    "                       for b, nb in zip(self.biases, nabla_b)]\n",
    "        \n",
    "    \n",
    "    def backprop(self, x, y):\n",
    "        \"\"\"Return a tuple ``(nabla_b, nabla_w)`` representing the\n",
    "        gradient for the cost function C_x.  ``nabla_b`` and\n",
    "        ``nabla_w`` are layer-by-layer lists of numpy arrays, similar\n",
    "        to ``self.biases`` and ``self.weights``.\"\"\"\n",
    "        nabla_b = [np.zeros(b.shape) for b in self.biases]\n",
    "        nabla_w = [np.zeros(w.shape) for w in self.weights]\n",
    "        # feedforward\n",
    "        activation = x\n",
    "        activations = [x] # list to store all the activations, layer by layer\n",
    "        zs = [] # list to store all the z vectors, layer by layer\n",
    "        for b, w in zip(self.biases, self.weights):\n",
    "            z = np.dot(w, activation)+b\n",
    "            zs.append(z)\n",
    "            activation = sigmoid(z)\n",
    "            activations.append(activation)\n",
    "        # backward pass\n",
    "        delta = self.cost_derivative(activations[-1], y) * \\\n",
    "            sigmoid_prime(zs[-1])\n",
    "        nabla_b[-1] = delta\n",
    "        nabla_w[-1] = np.dot(delta, activations[-2].transpose())\n",
    "        # Note that the variable l in the loop below is used a little\n",
    "        # differently to the notation in Chapter 2 of the book.  Here,\n",
    "        # l = 1 means the last layer of neurons, l = 2 is the\n",
    "        # second-last layer, and so on.  It's a renumbering of the\n",
    "        # scheme in the book, used here to take advantage of the fact\n",
    "        # that Python can use negative indices in lists.\n",
    "        for l in range(2, self.num_layers):\n",
    "            z = zs[-l]\n",
    "            sp = sigmoid_prime(z)\n",
    "            delta = np.dot(self.weights[-l+1].transpose(), delta) * sp\n",
    "            nabla_b[-l] = delta\n",
    "            nabla_w[-l] = np.dot(delta, activations[-l-1].transpose())\n",
    "        return (nabla_b, nabla_w)\n",
    "\n",
    "    def evaluate(self, test_data):\n",
    "        \"\"\"Return the number of test inputs for which the neural\n",
    "        network outputs the correct result. Note that the neural\n",
    "        network's output is assumed to be the index of whichever\n",
    "        neuron in the final layer has the highest activation.\"\"\"\n",
    "        test_results = [(np.argmax(self.feedforward(x)), y) # Returns the indices of the maximum values along an axis.\n",
    "                        for (x, y) in test_data]            # Returns the predict number from the network\n",
    "        return sum(int(x == y) for (x, y) in test_results)\n",
    "\n",
    "    def cost_derivative(self, output_activations, y):\n",
    "        \"\"\"Return the vector of partial derivatives \\partial C_x /\n",
    "        \\partial a for the output activations.\"\"\"\n",
    "        return (output_activations-y)"
   ]
  },
  {
   "cell_type": "code",
   "execution_count": 24,
   "metadata": {},
   "outputs": [],
   "source": [
    "import mnist_loader\n",
    "training_data, validation_data, test_data = mnist_loader.load_data_wrapper()"
   ]
  },
  {
   "cell_type": "code",
   "execution_count": 21,
   "metadata": {},
   "outputs": [
    {
     "name": "stdout",
     "output_type": "stream",
     "text": [
      "Epoch 0: 9024 / 10000\n",
      "Epoch 1: 9246 / 10000\n",
      "Epoch 2: 9306 / 10000\n",
      "Epoch 3: 9282 / 10000\n",
      "Epoch 4: 9377 / 10000\n",
      "Epoch 5: 9380 / 10000\n",
      "Epoch 6: 9383 / 10000\n",
      "Epoch 7: 9438 / 10000\n",
      "Epoch 8: 9451 / 10000\n",
      "Epoch 9: 9472 / 10000\n",
      "Epoch 10: 9457 / 10000\n",
      "Epoch 11: 9458 / 10000\n",
      "Epoch 12: 9492 / 10000\n",
      "Epoch 13: 9462 / 10000\n",
      "Epoch 14: 9480 / 10000\n",
      "Epoch 15: 9469 / 10000\n",
      "Epoch 16: 9507 / 10000\n",
      "Epoch 17: 9479 / 10000\n",
      "Epoch 18: 9489 / 10000\n",
      "Epoch 19: 9480 / 10000\n",
      "Epoch 20: 9514 / 10000\n",
      "Epoch 21: 9499 / 10000\n",
      "Epoch 22: 9488 / 10000\n",
      "Epoch 23: 9511 / 10000\n",
      "Epoch 24: 9510 / 10000\n",
      "Epoch 25: 9518 / 10000\n",
      "Epoch 26: 9497 / 10000\n",
      "Epoch 27: 9474 / 10000\n",
      "Epoch 28: 9510 / 10000\n",
      "Epoch 29: 9483 / 10000\n"
     ]
    }
   ],
   "source": [
    "# net = Network([784, 30, 10])\n",
    "# net.SGD(training_data, 30, 10, 3.0, test_data=test_data)"
   ]
  },
  {
   "cell_type": "code",
   "execution_count": 26,
   "metadata": {},
   "outputs": [
    {
     "data": {
      "text/plain": [
       "[array([[-0.49138079,  0.50704796],\n",
       "        [-0.44669735, -1.45585093],\n",
       "        [-0.2609126 , -0.530203  ]]),\n",
       " array([[-0.14509624,  0.09262969,  0.71460201]])]"
      ]
     },
     "execution_count": 26,
     "metadata": {},
     "output_type": "execute_result"
    }
   ],
   "source": [
    "net = Network([2, 3, 1])\n",
    "net.weights"
   ]
  },
  {
   "cell_type": "code",
   "execution_count": null,
   "metadata": {},
   "outputs": [],
   "source": []
  }
 ],
 "metadata": {
  "kernelspec": {
   "display_name": "Python 3",
   "language": "python",
   "name": "python3"
  },
  "language_info": {
   "codemirror_mode": {
    "name": "ipython",
    "version": 3
   },
   "file_extension": ".py",
   "mimetype": "text/x-python",
   "name": "python",
   "nbconvert_exporter": "python",
   "pygments_lexer": "ipython3",
   "version": "3.8.5"
  }
 },
 "nbformat": 4,
 "nbformat_minor": 4
}
